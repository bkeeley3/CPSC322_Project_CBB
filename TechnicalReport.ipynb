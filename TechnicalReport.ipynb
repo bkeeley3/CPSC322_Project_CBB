{
 "cells": [
  {
   "cell_type": "code",
   "execution_count": 8,
   "metadata": {},
   "outputs": [],
   "source": [
    "# some useful mysklearn package import statements and reloads\n",
    "import importlib\n",
    "\n",
    "import mysklearn.myutils\n",
    "importlib.reload(mysklearn.myutils)\n",
    "import mysklearn.myutils as myutils\n",
    "\n",
    "#uncomment once you paste your mypytable.py into mysklearn package\n",
    "import mysklearn.mypytable\n",
    "importlib.reload(mysklearn.mypytable)\n",
    "from mysklearn.mypytable import MyPyTable \n",
    "\n",
    "# uncomment once you paste your myclassifiers.py into mysklearn package\n",
    "import mysklearn.myclassifiers\n",
    "importlib.reload(mysklearn.myclassifiers)\n",
    "from mysklearn.myclassifiers import MyKNeighborsClassifier, MyDummyClassifier, MyNaiveBayesClassifier, MyDecisionTreeClassifier\n",
    "\n",
    "import mysklearn.myevaluation\n",
    "importlib.reload(mysklearn.myevaluation)\n",
    "import mysklearn.myevaluation as myevaluation"
   ]
  },
  {
   "cell_type": "code",
   "execution_count": 9,
   "metadata": {},
   "outputs": [
    {
     "name": "stdout",
     "output_type": "stream",
     "text": [
      "['TEAM', 'G', 'W', 'ADJOE', 'ADJDE', 'BARTHAG', 'EFG_O', 'TOR', 'ORB', 'FTR', '2P_O', '3P_O', 'YEAR']\n"
     ]
    }
   ],
   "source": [
    "games_played = MyPyTable()\n",
    "games_played.load_from_file(\"input_data/CBB_data_cleaned.csv\")\n",
    "print(games_played.column_names)\n",
    "\n",
    "games_played_idx = games_played.column_names.index('G')\n",
    "games_won_idx = games_played.column_names.index('W')\n",
    "games_played.column_names.append(\"OVER_.500\")\n",
    "\n",
    "for team in games_played.data:\n",
    "    win_percentage = team[games_won_idx] / team[games_played_idx]\n",
    "    if win_percentage >= .500:\n",
    "        team.append(\"TRUE\")\n",
    "    else:\n",
    "        team.append(\"FALSE\")\n"
   ]
  }
 ],
 "metadata": {
  "kernelspec": {
   "display_name": "Python 3.9.12 ('base')",
   "language": "python",
   "name": "python3"
  },
  "language_info": {
   "codemirror_mode": {
    "name": "ipython",
    "version": 3
   },
   "file_extension": ".py",
   "mimetype": "text/x-python",
   "name": "python",
   "nbconvert_exporter": "python",
   "pygments_lexer": "ipython3",
   "version": "3.9.12"
  },
  "orig_nbformat": 4,
  "vscode": {
   "interpreter": {
    "hash": "d4d1e4263499bec80672ea0156c357c1ee493ec2b1c70f0acce89fc37c4a6abe"
   }
  }
 },
 "nbformat": 4,
 "nbformat_minor": 2
}
