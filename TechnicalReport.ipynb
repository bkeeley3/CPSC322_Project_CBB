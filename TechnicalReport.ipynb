{
 "cells": [
  {
   "cell_type": "markdown",
   "metadata": {},
   "source": [
    "## **<div align=\"center\">College Basketball Above or Below .500 Prediction</div>**\n",
    "##### **<div align=\"center\">Adam White, Brady Keeley</div>**\n",
    "##### **<div align=\"center\">CPSC 322, Fall 2022</div>**\n",
    "\n",
    "### **<div align=\"center\">Dataset Description**</div>\n",
    "<div align=\"center\">\n",
    "\n",
    "[Data Source](https://www.kaggle.com/datasets/andrewsundberg/college-basketball-dataset) \n",
    "\n",
    "Format: csv\n",
    "\n",
    "The dataset we decided to use for our project is a college basketball dataset from 2013-2019. The dataset has everywhere from basic attributes such as games won and games played, to very advanced statistics such as two-point-percentage allowed and adjusted defensive efficiency. The dataset is highly usable, with no noisy or incomplete data.\n",
    "\n",
    "#### **Attributes**\n",
    "\n",
    "In total, there are 24 attributes, however, we are planning on using 13 of those attributes. The attribute that we are planning on trying to predict is whether or not a team will be above a .500 win percentage. This attribute is not explicitly in the dataset, however, we are planning on calculating the win percentage for each team ourselves, then making a new column that will store a boolean value on if the team was above .500 or not. In the future, we way drop the games and games win columns altogether once we have this column, but for now, we are going to keep it in. The attributes we plan on using to calculate if a team would be above or below .500 or not are... \n",
    "\n",
    "1. Adjusted Offensive Efficiency (ADJOE)\n",
    "1. Adjusted Defensive Efficiency (ADJDE)\n",
    "1. Power Rating (BARTHAG)\n",
    "1. Effective Field Goal Percentage (EFG_O)\n",
    "1. Turn-Over Percentage Allowed (TOR)\n",
    "1. Offensive Rebounding Rate (ORB)\n",
    "1. Free Throw Rate (FTR)\n",
    "1. Two-Point Percentage (2P_O)\n",
    "1. Three-Point Percentage (3P_O)\n",
    "\n",
    "For a total of 9 attributes. The rest of the attributes that we are not planning on predicting are simply there to label each of the rows. For example, we are leaving in team name and year, so we can go back and see where certain values may have come from.</div>\n",
    "\n",
    "\n",
    "### **<div align=\"center\"> Findings </div>**\n",
    "<div align=\"center\">\n",
    "Findings here\n",
    "\n",
    "</div>\n"
   ]
  },
  {
   "cell_type": "code",
   "execution_count": 1,
   "metadata": {},
   "outputs": [],
   "source": [
    "# some useful mysklearn package import statements and reloads\n",
    "import importlib\n",
    "\n",
    "import mysklearn.myutils\n",
    "importlib.reload(mysklearn.myutils)\n",
    "import mysklearn.myutils as myutils\n",
    "\n",
    "#uncomment once you paste your mypytable.py into mysklearn package\n",
    "import mysklearn.mypytable\n",
    "importlib.reload(mysklearn.mypytable)\n",
    "from mysklearn.mypytable import MyPyTable \n",
    "\n",
    "# uncomment once you paste your myclassifiers.py into mysklearn package\n",
    "import mysklearn.myclassifiers\n",
    "importlib.reload(mysklearn.myclassifiers)\n",
    "from mysklearn.myclassifiers import MyKNeighborsClassifier, MyDummyClassifier, MyNaiveBayesClassifier, MyDecisionTreeClassifier\n",
    "\n",
    "import mysklearn.myevaluation\n",
    "importlib.reload(mysklearn.myevaluation)\n",
    "import mysklearn.myevaluation as myevaluation"
   ]
  },
  {
   "cell_type": "code",
   "execution_count": 3,
   "metadata": {},
   "outputs": [
    {
     "name": "stdout",
     "output_type": "stream",
     "text": [
      "['TEAM', 'G', 'W', 'ADJOE', 'ADJDE', 'BARTHAG', 'EFG_O', 'TOR', 'ORB', 'FTR', '2P_O', '3P_O', 'YEAR']\n",
      "['TEAM', 'G', 'W', 'ADJOE', 'ADJDE', 'BARTHAG', 'EFG_O', 'TOR', 'ORB', 'FTR', '2P_O', '3P_O', 'YEAR', 'OVER_.500']\n",
      "['North Carolina', 40.0, 33.0, 123.3, 94.9, 0.9531, 52.6, 15.4, 40.7, 32.3, 53.9, 32.7, 2016.0, 'TRUE']\n"
     ]
    }
   ],
   "source": [
    "games_played = MyPyTable()\n",
    "games_played.load_from_file(\"input_data/CBB_data_cleaned.csv\")\n",
    "print(games_played.column_names)\n",
    "\n",
    "games_played_idx = games_played.column_names.index('G')\n",
    "games_won_idx = games_played.column_names.index('W')\n",
    "games_played.column_names.append(\"OVER_.500\")\n",
    "\n",
    "for team in games_played.data:\n",
    "    win_percentage = team[games_won_idx] / team[games_played_idx]\n",
    "    if win_percentage >= .500:\n",
    "        team.append(\"TRUE\")\n",
    "    else:\n",
    "        team.append(\"FALSE\")\n"
   ]
  }
 ],
 "metadata": {
  "kernelspec": {
   "display_name": "Python 3.9.2 64-bit",
   "language": "python",
   "name": "python3"
  },
  "language_info": {
   "codemirror_mode": {
    "name": "ipython",
    "version": 3
   },
   "file_extension": ".py",
   "mimetype": "text/x-python",
   "name": "python",
   "nbconvert_exporter": "python",
   "pygments_lexer": "ipython3",
   "version": "3.9.2"
  },
  "orig_nbformat": 4,
  "vscode": {
   "interpreter": {
    "hash": "31f2aee4e71d21fbe5cf8b01ff0e069b9275f58929596ceb00d14d90e3e16cd6"
   }
  }
 },
 "nbformat": 4,
 "nbformat_minor": 2
}
