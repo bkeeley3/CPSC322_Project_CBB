{
 "cells": [
  {
   "cell_type": "markdown",
   "metadata": {},
   "source": [
    "## **<div align=\"center\">College Basketball Above or Below .500 Prediction</div>**\n",
    "##### **<div align=\"center\">Adam White, Brady Keeley</div>**\n",
    "##### **<div align=\"center\">CPSC 322, Fall 2022</div>**\n",
    "\n",
    "### **<div align=\"center\">Dataset Description**</div>\n",
    "<div align=\"center\">\n",
    "\n",
    "[Data Source](https://www.kaggle.com/datasets/andrewsundberg/college-basketball-dataset) \n",
    "\n",
    "Format: csv\n",
    "\n",
    "The dataset we decided to use for our project is a college basketball dataset from 2013-2019. The dataset has everywhere from basic attributes such as games won and games played, to very advanced statistics such as two-point-percentage allowed and adjusted defensive efficiency. The dataset is highly usable, with no noisy or incomplete data.\n",
    "\n",
    "#### **Attributes**\n",
    "\n",
    "In total, there are 24 attributes, however, we are planning on using 13 of those attributes. The attribute that we are planning on trying to predict is whether or not a team will be above a .500 win percentage. This attribute is not explicitly in the dataset, however, we are planning on calculating the win percentage for each team ourselves, then making a new column that will store a boolean value on if the team was above .500 or not. In the future, we way drop the games and games win columns altogether once we have this column, but for now, we are going to keep it in. The attributes we plan on using to calculate if a team would be above or below .500 or not are... \n",
    "\n",
    "1. Adjusted Offensive Efficiency (ADJOE)\n",
    "1. Adjusted Defensive Efficiency (ADJDE)\n",
    "1. Power Rating (BARTHAG)\n",
    "1. Effective Field Goal Percentage (EFG_O)\n",
    "1. Turn-Over Percentage Allowed (TOR)\n",
    "1. Offensive Rebounding Rate (ORB)\n",
    "1. Free Throw Rate (FTR)\n",
    "1. Two-Point Percentage (2P_O)\n",
    "1. Three-Point Percentage (3P_O)\n",
    "\n",
    "For a total of 9 attributes. The rest of the attributes that we are not planning on predicting are simply there to label each of the rows. For example, we are leaving in team name and year, so we can go back and see where certain values may have come from.</div>\n",
    "\n",
    "\n",
    "### **<div align=\"center\"> Findings </div>**\n",
    "<div align=\"center\">\n",
    "Findings here\n",
    "\n",
    "</div>\n"
   ]
  },
  {
   "cell_type": "code",
   "execution_count": 57,
   "metadata": {},
   "outputs": [],
   "source": [
    "# some useful mysklearn package import statements and reloads\n",
    "import importlib\n",
    "\n",
    "import mysklearn.myutils\n",
    "importlib.reload(mysklearn.myutils)\n",
    "import mysklearn.myutils as myutils\n",
    "\n",
    "#uncomment once you paste your mypytable.py into mysklearn package\n",
    "import mysklearn.mypytable\n",
    "importlib.reload(mysklearn.mypytable)\n",
    "from mysklearn.mypytable import MyPyTable \n",
    "\n",
    "# uncomment once you paste your myclassifiers.py into mysklearn package\n",
    "import mysklearn.myclassifiers\n",
    "importlib.reload(mysklearn.myclassifiers)\n",
    "from mysklearn.myclassifiers import MyKNeighborsClassifier, MyDummyClassifier, MyNaiveBayesClassifier, MyDecisionTreeClassifier\n",
    "\n",
    "import mysklearn.myevaluation\n",
    "importlib.reload(mysklearn.myevaluation)\n",
    "import mysklearn.myevaluation as myevaluation"
   ]
  },
  {
   "cell_type": "code",
   "execution_count": 58,
   "metadata": {},
   "outputs": [
    {
     "name": "stdout",
     "output_type": "stream",
     "text": [
      "['TEAM', 'G', 'W', 'ADJOE', 'ADJDE', 'BARTHAG', 'EFG_O', 'TOR', 'ORB', 'FTR', '2P_O', '3P_O', 'YEAR']\n",
      "1\n",
      "2\n",
      "['TEAM', 'G', 'W', 'ADJOE', 'ADJDE', 'BARTHAG', 'EFG_O', 'TOR', 'ORB', 'FTR', '2P_O', '3P_O', 'YEAR', 'OVER_.500']\n"
     ]
    }
   ],
   "source": [
    "games_played = MyPyTable()\n",
    "games_played.load_from_file(\"input_data/CBB_data_cleaned.csv\")\n",
    "print(games_played.column_names)\n",
    "\n",
    "games_played_idx = games_played.column_names.index('G')\n",
    "games_won_idx = games_played.column_names.index('W')\n",
    "games_played.column_names.append(\"OVER_.500\")\n",
    "\n",
    "print(games_played_idx)\n",
    "print(games_won_idx)\n",
    "print(games_played.column_names)\n",
    "\n",
    "for team in games_played.data:\n",
    "    win_percentage = team[games_won_idx] / team[games_played_idx]\n",
    "    if win_percentage >= .500:\n",
    "        team.append(\"TRUE\")\n",
    "    else:\n",
    "        team.append(\"FALSE\")\n"
   ]
  },
  {
   "cell_type": "code",
   "execution_count": 59,
   "metadata": {},
   "outputs": [
    {
     "data": {
      "image/png": "[encoded data removed]",
      "text/plain": [
       "<Figure size 432x288 with 1 Axes>"
      ]
     },
     "metadata": {
      "needs_background": "light"
     },
     "output_type": "display_data"
    }
   ],
   "source": [
    "class_labes = myutils.get_column(games_played.data, -1)\n",
    "\n",
    "values = [] \n",
    "counts = [] \n",
    "for value in class_labes:\n",
    "    if value not in values:\n",
    "        values.append(value)\n",
    "        counts.append(1)\n",
    "    else:\n",
    "        counts[values.index(value)] += 1\n",
    "\n",
    "myutils.bar_chart(values, counts, \"Class Labels\", \"Number of Teams\", values, \"Distribution of Teams Over .500\")"
   ]
  },
  {
   "cell_type": "markdown",
   "metadata": {},
   "source": [
    "## Discretizing DataSet Below\n",
    "A = Above League Average\n",
    "B = Below League Average"
   ]
  },
  {
   "cell_type": "code",
   "execution_count": 60,
   "metadata": {},
   "outputs": [],
   "source": [
    "importlib.reload(myutils)\n",
    "for col_index, col_name in enumerate(games_played.column_names[2:12]):\n",
    "    col_average = myutils.find_col_average(games_played, col_name)\n",
    "    col_index += 2\n",
    "    curr_col = games_played.get_column(col_name)\n",
    "    for i, val in enumerate(curr_col):\n",
    "        if val > col_average:\n",
    "            games_played.data[i][col_index] = \"A\"\n",
    "        else:\n",
    "            games_played.data[i][col_index] = \"B\"\n",
    "\n",
    "games_played.save_to_file(\"input_data/CBB_data_discretized.csv\")"
   ]
  },
  {
   "cell_type": "markdown",
   "metadata": {},
   "source": [
    "## **kNN Preliminary Analysis**"
   ]
  },
  {
   "cell_type": "code",
   "execution_count": 61,
   "metadata": {},
   "outputs": [],
   "source": [
    "X = [value[2:12] for value in games_played.data]\n",
    "y = [value[-1] for value in games_played.data]\n",
    "\n",
    "#knn_clf = MyKNeighborsClassifier(3)\n",
    "#y_true, y_predicted = myutils.cross_val_predict(X, y, 3, True, knn_clf)\n",
    "#myutils.measure_classifier_performance(y_true, y_predicted, \"kNN Classifier\", 1, ['TRUE', \"FALSE\"], \"TRUE\")"
   ]
  },
  {
   "cell_type": "markdown",
   "metadata": {},
   "source": [
    "## **Naive Bayes Preliminary Results**"
   ]
  },
  {
   "cell_type": "code",
   "execution_count": 62,
   "metadata": {},
   "outputs": [
    {
     "name": "stdout",
     "output_type": "stream",
     "text": [
      "======================================\n",
      "STEP 2: Naive Bayes Classifier\n",
      "k=10 Stratified K-Fold Cross Validation\n",
      "======================================\n",
      "ACCURACY: 0.6762\n",
      "ERROR RATE: 0.3238\n",
      "\n",
      "PRECISION SCORE: 0.6377\n",
      "RECALL SCORE: 0.9395\n",
      "F1 SCORE: 0.7597\n",
      "\n",
      "MATRIX:\n",
      "[[1257, 81], [714, 403]]\n"
     ]
    }
   ],
   "source": [
    "importlib.reload(myutils)\n",
    "X = [value[2:12] for value in games_played.data]\n",
    "y = [value[-1] for value in games_played.data]\n",
    "nb_clf = MyNaiveBayesClassifier()\n",
    "nb_folds = myevaluation.stratified_kfold_split(X, y, 3)\n",
    "nb_true, nb_predicted = myutils.do_fold_predictions(X, y, nb_folds, nb_clf, \"Naive Bayes\")\n",
    "myutils.measure_classifier_performance(nb_true, nb_predicted, \"Naive Bayes Classifier\", 2, ['TRUE', \"FALSE\"], \"TRUE\")"
   ]
  },
  {
   "cell_type": "markdown",
   "metadata": {},
   "source": [
    "## **Decision Tree Preliminary Results**"
   ]
  },
  {
   "cell_type": "code",
   "execution_count": 63,
   "metadata": {},
   "outputs": [
    {
     "name": "stdout",
     "output_type": "stream",
     "text": [
      "======================================\n",
      "STEP 3: Decision Tree\n",
      "k=10 Stratified K-Fold Cross Validation\n",
      "======================================\n",
      "ACCURACY: 0.9173\n",
      "ERROR RATE: 0.0827\n",
      "\n",
      "PRECISION SCORE: 0.9588\n",
      "RECALL SCORE: 0.8864\n",
      "F1 SCORE: 0.9212\n",
      "\n",
      "MATRIX:\n",
      "[[1186, 152], [51, 1066]]\n"
     ]
    }
   ],
   "source": [
    "tree_clf = MyDecisionTreeClassifier()\n",
    "tree_true, tree_predicted = myutils.cross_val_predict(X, y, 3, True, tree_clf)\n",
    "myutils.measure_classifier_performance(tree_true, tree_predicted, \"Decision Tree\", 3, ['TRUE', \"FALSE\"], \"TRUE\")\n"
   ]
  },
  {
   "attachments": {},
   "cell_type": "markdown",
   "metadata": {},
   "source": [
    "## **Random Forest**"
   ]
  },
  {
   "cell_type": "code",
   "execution_count": 68,
   "metadata": {},
   "outputs": [],
   "source": [
    "importlib.reload(mysklearn.myclassifiers)\n",
    "importlib.reload(myutils)\n",
    "\n",
    "random_forest = mysklearn.myclassifiers.MyRandomForestClassifier(20, 7, 2)\n",
    "random_forest.fit(X, y)"
   ]
  }
 ],
 "metadata": {
  "kernelspec": {
   "display_name": "Python 3.9.12 ('base')",
   "language": "python",
   "name": "python3"
  },
  "language_info": {
   "codemirror_mode": {
    "name": "ipython",
    "version": 3
   },
   "file_extension": ".py",
   "mimetype": "text/x-python",
   "name": "python",
   "nbconvert_exporter": "python",
   "pygments_lexer": "ipython3",
   "version": "3.9.12"
  },
  "orig_nbformat": 4,
  "vscode": {
   "interpreter": {
    "hash": "d4d1e4263499bec80672ea0156c357c1ee493ec2b1c70f0acce89fc37c4a6abe"
   }
  }
 },
 "nbformat": 4,
 "nbformat_minor": 2
}
