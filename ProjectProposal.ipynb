{
 "cells": [
  {
   "cell_type": "markdown",
   "metadata": {},
   "source": [
    "### **College Basketball Above or Below .500 Prediction**\n",
    "Adam White and Brady Keeley\n",
    "\n",
    "#### **1. Dataset Description**\n",
    "[Data Source](https://www.kaggle.com/datasets/andrewsundberg/college-basketball-dataset) \n",
    "\n",
    "Format: csv\n",
    "\n",
    "Description of Dataset: The dataset we decided to use for our project is a college basketball dataset from 2013-2019. The dataset has everywhere from basic attributes such as games won and games played, to very advanced statistics such as two-point-percentage allowed and adjusted defensive efficiency. The dataset is highly usable, with no noisy or incomplete data that we have come across, and it is thoroughly cleaned.\n",
    "\n",
    "Description of Attributes: In total, there are 24 attributes, however, we are planning on using 13 of those attributes. The attribute that we are planning on trying to predict is whether or not a team will be above a .500 win percentage. This attribute is not explicitly in the dataset, however, we are planning on calculating the win percentage for each team ourselves, then making a new column that will store a boolean value on if the team was above .500 or not. In the future, we way drop the games and games win columns altogether once we have this column, but for now, we are going to keep it in. The attributes we plan on using to calculate if a team would be above or below .500 or not are... \n",
    "1. Adjusted Offensive Efficiency (ADJOE)\n",
    "1. Adjusted Defensive Efficiency (ADJDE)\n",
    "1. Power Rating (BARTHAG)\n",
    "1. Effective Field Goal Percentage (EFG_O)\n",
    "1. Turn-Over Percentage Allowed (TOR)\n",
    "1. Offensive Rebounding Rate (ORB)\n",
    "1. Free Throw Rate (FTR)\n",
    "1. Two-Point Percentage (2P_O)\n",
    "1. Three-Point Percentage (3P_O)\n",
    "\n",
    "For a total of 9 attributes. The rest of the attributes that we are not planning on predicting are simply there to label each of the rows. For example, we are leaving in team name and year, so we can go back and see where certain values may have come from.\n",
    "\n",
    "#### **2. Implementation/Technical Merit**\n",
    "##### **Anticipated Challenges**\n",
    "Some challenges in preprocessing we could encounter would be the differentiation between teams we have to prepend the date field for each instance. This allows each instance to have a unique name and be easily identifiable. We also have to build out our own y_true list from games won and games played and then a bool value assigned to each indicating if they went over .500 or not. This would include modifying a copy of the table while extracting all the data to build more table objects. In classification, the normalization of data could present a problem because of the wide range of values in the table.\n",
    "##### **Attribute Handling**\n",
    "Because the dataset is so large we are going to either have to test the classifier based on 2 separate categories of data or further trim the data and pick the best attributes that would give the best classification. This would be hard because all statistics in basketball are around similar relevance in telling if a team will go over .500. \n",
    "\n",
    "#### **3. Potential Impact Results**\n",
    "##### **Result Usefulness**\n",
    "The results of our predictions could potentially be useful in the real world for a few reasons. One example would be if you have a team that may be losing a good amount of games to start the season, but maybe they think they are still playing well, they can put in their analytics to see if they should just play the long game and keep doing things how they are doing it right now, or if they should make drastic changes because they are going to end up being sub-500. For example, Gonzaga just lost to Texas a few days ago, so we may look worse because of the loss, but if our analytics still say we are generally performing well, then we should keep doing what we are doing. Another interesting thing our predictions could do is show if a team in a really weak conference would normally be an above .500 team across the entire league. This would be especially interesting with Gonzaga, as we have a notoriously easy conference, so if we put in Gonzaga’s numbers, maybe we would be a sub .500 team if we compared it to the rest of the league (probably not though :) ). \n",
    "\n",
    "##### **Stakeholders**\n",
    "There are many stakeholders that would be affected by our predictions. The first, most obvious one would be the teams as an organization. If they were predicted to be sub .500, there needs to be some sort of change they could make so that they could avoid that happening. They could even mess with the numbers by artificially inflating their numbers to see where they could improve and how impactful it might be. Another big stakeholder would be the players. The mentality that knowing how you are performing now would lead to a sub .500 ending to the season could be either a big downer or a big motivator for them to play better. Lastly, another interesting stakeholder in this scenario could be sports betters. It would allow sports betters to make a more informed decision on whether or not they should put in money for teams on whether or not they would be above or below .500. \n"
   ]
  }
 ],
 "metadata": {
  "kernelspec": {
   "display_name": "Python 3",
   "language": "python",
   "name": "python3"
  },
  "language_info": {
   "name": "python",
   "version": "3.9.2 (default, Feb 28 2021, 17:03:44) \n[GCC 10.2.1 20210110]"
  },
  "orig_nbformat": 4,
  "vscode": {
   "interpreter": {
    "hash": "31f2aee4e71d21fbe5cf8b01ff0e069b9275f58929596ceb00d14d90e3e16cd6"
   }
  }
 },
 "nbformat": 4,
 "nbformat_minor": 2
}
